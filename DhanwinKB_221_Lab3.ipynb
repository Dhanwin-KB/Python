{
 "cells": [
  {
   "cell_type": "code",
   "execution_count": 13,
   "metadata": {},
   "outputs": [
    {
     "name": "stdout",
     "output_type": "stream",
     "text": [
      "['DKB', '', '', '', '', 'SMAPP', '', '', '', '', '', '', '', '', '2347221']\n",
      "DKB\n",
      "SMAPP\n",
      "2347221\n",
      "{'Name': 'DKB', 'Domain_Name': 'SMAPP', 'Regno': '2347221'}\n"
     ]
    }
   ],
   "source": [
    "# Write a function in Python with a string such that it accepts a parameter- “stringsplit”. \n",
    "# This encoded string will contain your name, domain name and register number. \n",
    "# You can separate the values in the string by any number of underscores. \n",
    "# [The string should not contain any other underscore symbols in your name, domain name and register number]. \n",
    "# The function should return a Python dictionary with your name, domain name and register number.\n",
    "# For example, if the input would be \" Aaron___Googleplaystore____2347201”. \n",
    "# Then the function should return the output as follows:\n",
    "# { \"name\": \" Aaron \",\n",
    "# \"Domain_name\": \" Googleplaystore \",\n",
    "# \"Regno\": \"2347201\" }\n",
    "def stringsplitter (stringssplit):\n",
    "    new=stringssplit.split('_')\n",
    "    print(new)\n",
    "    userdict = {\"Name\" : \"\", \"Domain_Name\" : \"\", \"Regno\" : \"\"}\n",
    "    splitlist=[]\n",
    "    for i in new:\n",
    "        if i!='':\n",
    "            print(i)\n",
    "            splitlist.append(i)\n",
    "    userdict[\"Name\"]=splitlist[0]\n",
    "    userdict[\"Domain_Name\"]=splitlist[1]\n",
    "    userdict[\"Regno\"]=splitlist[2]\n",
    "    print(userdict)\n",
    "s=input(\"Enter you Name, Domain Name and Reg No. seperated by underscore characters '_'\")\n",
    "stringsplitter(s)\n"
   ]
  },
  {
   "cell_type": "code",
   "execution_count": null,
   "metadata": {},
   "outputs": [],
   "source": [
    "# # Write a Python program to implement the object-oriented concepts of multiple, Multilevel and Hierarchical Inheritances \n",
    "# # using your domain applications.\n",
    "# class user:                                #Base Class 1 for Multi-Level Inheritance\n",
    "#     def showUser():\n",
    "#         print(\"I'm a user of this app\")\n",
    "# class admin(user):                         #Base Class 2 for Multi-Level Inheritance\n",
    "#     def showAdmin():\n",
    "#         print(\"I'm an admin of this app\")\n",
    "#         super().showUser()\n",
    "# class adminsettings(admin):                #Inherited Class for Multi-Level Inheritance\n",
    "#     def showSettings():\n",
    "#         print(\"settings:admin\")\n",
    "# # class SuperAdmin(admin,adminsettings):     #Inherited Class for Multiple Inheritance\n",
    "# #     def showSuperAdmin():\n",
    "# #         print(\"I am just a spectator!\")\n",
    "#         # super().showAdmin()\n",
    "#         # super().showSettings()\n",
    "# class guest:                                #Parent Class for Hierarchical Inheritance\n",
    "#     def showGuest():\n",
    "#         print(\"I am a guest\")\n",
    "# class guestsettings(guest):                 #Child Class #1\n",
    "#     def showSettings():\n",
    "#         super().showGuest()\n",
    "#         print(\"settings:guest\")\n",
    "# class guestbio(guest):                      #Child Class #2\n",
    "#     def bio():\n",
    "#         super().showGuest()\n",
    "#         print(\"bio:guest\")\n",
    "# g=guestsettings()\n",
    "# g.showSettings()\n",
    "# g=guestbio()\n",
    "# g.bio()\n",
    "# a=admin()\n",
    "# a.showAdmin()\n",
    "# # sa=SuperAdmin()\n",
    "# # sa.showSuperAdmin()\n"
   ]
  },
  {
   "cell_type": "code",
   "execution_count": 23,
   "metadata": {},
   "outputs": [
    {
     "name": "stdout",
     "output_type": "stream",
     "text": [
      "Name : guest\n",
      "State of Access to the website: TRUE\n"
     ]
    }
   ],
   "source": [
    "#Multi-Level Inheritance\n",
    "class User:\n",
    "    access=\"TRUE\"\n",
    "    def User(self):\n",
    "        print(\"I am a user\")\n",
    "class Guest(User):\n",
    "    name=\"Guest\"\n",
    "    def display(self):\n",
    "        print(\"State of Access to the website:\", self.access)\n",
    "class Settings(Guest):\n",
    "    def info(self):\n",
    "        print(\"Name :\", self.name)\n",
    "        print(\"State of Access to the website:\", self.access)\n",
    "u1=Settings()\n",
    "u1.info()"
   ]
  },
  {
   "cell_type": "code",
   "execution_count": 25,
   "metadata": {},
   "outputs": [
    {
     "name": "stdout",
     "output_type": "stream",
     "text": [
      "Name: dhanwin\n",
      "State: kerala\n",
      "Gender: male\n",
      "Country: india\n",
      "Taste in Music: popmusic\n",
      "Taste in Movies: action\n"
     ]
    }
   ],
   "source": [
    "#Multiple Inheritance\n",
    "class basicinfo:\n",
    "    name=\"dhanwin\"\n",
    "    state=\"kerala\"\n",
    "    gender=\"male\"\n",
    "    country=\"india\"\n",
    "class preference:\n",
    "    music=\"popmusic\"\n",
    "    movies=\"action\"\n",
    "class user(basicinfo,preference):\n",
    "    def display(self):\n",
    "        print(\"Name:\", self.name)\n",
    "        print(\"State:\", self.state)\n",
    "        print(\"Gender:\", self.gender)\n",
    "        print(\"Country:\", self.country)\n",
    "        print(\"Taste in Music:\", self.music)\n",
    "        print(\"Taste in Movies:\", self.movies)\n",
    "user1=user()\n",
    "user1.display()"
   ]
  },
  {
   "cell_type": "code",
   "execution_count": 27,
   "metadata": {},
   "outputs": [
    {
     "name": "stdout",
     "output_type": "stream",
     "text": [
      "Preferences:\n",
      "Name: dhanwin\n",
      "State: kerala\n",
      "Taste in Music: popmusic\n",
      "Taste in Movies: action\n",
      "\n",
      "Following\n",
      "Name: dhanwin\n",
      "State: kerala\n",
      "Follows: Anirudh\n",
      "Follows: Thaman\n"
     ]
    }
   ],
   "source": [
    "#Hierarchical Inheritance\n",
    "class basicinfo:\n",
    "    name=\"dhanwin\"\n",
    "    state=\"kerala\"\n",
    "class preference(basicinfo):\n",
    "    music=\"popmusic\"\n",
    "    movies=\"action\"\n",
    "    def display(self):\n",
    "        print(\"Preferences:\")\n",
    "        print(\"Name:\", self.name)\n",
    "        print(\"State:\", self.state)\n",
    "        print(\"Taste in Music:\", self.music)\n",
    "        print(\"Taste in Movies:\", self.movies)\n",
    "class following(basicinfo):\n",
    "    friend1=\"Anirudh\"\n",
    "    friend2=\"Thaman\"\n",
    "    def display(self):\n",
    "        print(\"\\nFollowing\")\n",
    "        print(\"Name:\", self.name)\n",
    "        print(\"State:\", self.state)\n",
    "        print(\"Follows:\", self.friend1)\n",
    "        print(\"Follows:\", self.friend2)\n",
    "p=preference()\n",
    "p.display()\n",
    "f=following()\n",
    "f.display()"
   ]
  }
 ],
 "metadata": {
  "kernelspec": {
   "display_name": "Python 3",
   "language": "python",
   "name": "python3"
  },
  "language_info": {
   "codemirror_mode": {
    "name": "ipython",
    "version": 3
   },
   "file_extension": ".py",
   "mimetype": "text/x-python",
   "name": "python",
   "nbconvert_exporter": "python",
   "pygments_lexer": "ipython3",
   "version": "3.11.4"
  },
  "orig_nbformat": 4
 },
 "nbformat": 4,
 "nbformat_minor": 2
}
