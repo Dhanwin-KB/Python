{
 "cells": [
  {
   "cell_type": "code",
   "execution_count": 1,
   "metadata": {},
   "outputs": [
    {
     "name": "stdout",
     "output_type": "stream",
     "text": [
      "zero division is not permitted\n"
     ]
    }
   ],
   "source": [
    "#Write a program to handle the exception of ZeroDivisionError.\n",
    "n=10\n",
    "try:\n",
    "    n=n/0\n",
    "except:\n",
    "    print(\"zero division is not permitted\")\n",
    "finally:\n",
    "    print(\"Exception Handling Module is now complete\")"
   ]
  },
  {
   "cell_type": "code",
   "execution_count": 3,
   "metadata": {},
   "outputs": [
    {
     "name": "stdout",
     "output_type": "stream",
     "text": [
      "Index you're trying to access is out of bounds\n",
      "Exception Handling Module is now complete\n"
     ]
    },
    {
     "ename": "Exception",
     "evalue": "The index you're trying to access is greater than the length of the list",
     "output_type": "error",
     "traceback": [
      "\u001b[1;31m---------------------------------------------------------------------------\u001b[0m",
      "\u001b[1;31mException\u001b[0m                                 Traceback (most recent call last)",
      "Cell \u001b[1;32mIn[3], line 10\u001b[0m\n\u001b[0;32m      8\u001b[0m     \u001b[39mprint\u001b[39m(\u001b[39m\"\u001b[39m\u001b[39mException Handling Module is now complete\u001b[39m\u001b[39m\"\u001b[39m)\n\u001b[0;32m      9\u001b[0m \u001b[39mif\u001b[39;00m \u001b[39m5\u001b[39m \u001b[39m>\u001b[39m (\u001b[39mlen\u001b[39m(\u001b[39mlist\u001b[39m)):\n\u001b[1;32m---> 10\u001b[0m   \u001b[39mraise\u001b[39;00m \u001b[39mException\u001b[39;00m(\u001b[39m\"\u001b[39m\u001b[39mThe index you\u001b[39m\u001b[39m'\u001b[39m\u001b[39mre trying to access is greater than the length of the list\u001b[39m\u001b[39m\"\u001b[39m)\n",
      "\u001b[1;31mException\u001b[0m: The index you're trying to access is greater than the length of the list"
     ]
    }
   ],
   "source": [
    "#Write a program to handle the exception of IndexError\n",
    "list=[1,2,3]\n",
    "try:\n",
    "    print(list[5])\n",
    "except:\n",
    "    print(\"Index you're trying to access is out of bounds\")\n",
    "finally:\n",
    "    print(\"Exception Handling Module is now complete\")\n",
    "if 5 > (len(list)):\n",
    "  raise Exception(\"The index you're trying to access is greater than the length of the list\")"
   ]
  },
  {
   "cell_type": "code",
   "execution_count": 19,
   "metadata": {},
   "outputs": [
    {
     "name": "stdout",
     "output_type": "stream",
     "text": [
      "Matches Found: ['(123)-456-7890', '(911)-456-7890', '(912)-456-7890'] ['123-456-7890']\n",
      "\n",
      "(xxx)-xxx-xxxx: ['(123)-456-7890', '(911)-456-7890', '(912)-456-7890']\n",
      "xxx-xxx-xxxx  : ['123-456-7890']\n"
     ]
    }
   ],
   "source": [
    "#Write a program using the Regular Exception and create a function that accepts a string and searches it for a valid phone number.\n",
    "#Return the phone number if found.\n",
    "#A valid phone number may be one of the following:\n",
    "#(xxx)-xxx-xxxx\n",
    "#xxx-xxx-xxxx\n",
    "import re\n",
    "def searchphno(s):\n",
    "    match=re.findall(\"\\([0-9][0-9][0-9]\\)-[0-9][0-9][0-9]-[0-9][0-9][0-9][0-9]\",s)\n",
    "    match2=re.findall(\"[0-9][0-9][0-9]-[0-9][0-9][0-9]-[0-9][0-9][0-9][0-9]\",s)\n",
    "    print(\"Matches Found:\",match,match2)\n",
    "    print(\"\\n(xxx)-xxx-xxxx:\",match)\n",
    "    print(\"xxx-xxx-xxxx  :\",match2)\n",
    "s=\"(123)-456-7890 (911)-456-7890 (912)-456-7890 123-456-7890\"\n",
    "searchphno(s)"
   ]
  },
  {
   "cell_type": "code",
   "execution_count": 33,
   "metadata": {},
   "outputs": [
    {
     "name": "stdout",
     "output_type": "stream",
     "text": [
      "Contains >8 characters, precisely 11 characters\n",
      "Contains an uppercase Character: C\n",
      "Contains a lowercase character: h\n",
      "Contains a lowercase character: r\n",
      "Contains a lowercase character: i\n",
      "Contains a lowercase character: s\n",
      "Contains a lowercase character: t\n",
      "Contains a special character: @\n",
      "Contains a digit: 1\n",
      "Contains a digit: 2\n",
      "Contains a digit: 3\n",
      "Contains a special character: }\n",
      "\n",
      "Password is accepted & The strength of Password: 12\n"
     ]
    }
   ],
   "source": [
    "#Write a function that employs regular expressions to ensure the password given to the function is strong.\n",
    "#A strong password is defined as follows:\n",
    "#·       at least eight characters long\n",
    "#·       contains one uppercase character\n",
    "#·       contains one lowercase character\n",
    "#·       has at least one digit\n",
    "#·       has at least one special character\n",
    "import re\n",
    "def checkpass(s):\n",
    "    strength=0\n",
    "    if len(s)>8:\n",
    "        strength=strength+1\n",
    "        print(\"Contains >8 characters, precisely\",len(s),\"characters\")\n",
    "    for x in s:\n",
    "        if(re.search(\"[A-Z]\",x)):\n",
    "            strength=strength+1\n",
    "            print(\"Contains an uppercase Character:\",x)\n",
    "            continue\n",
    "        if(re.search(\"[a-z]\",x)):\n",
    "            strength=strength+1\n",
    "            print(\"Contains a lowercase character:\",x)\n",
    "            continue\n",
    "        if(re.search(\"[0-9]\",x)):\n",
    "            strength=strength+1\n",
    "            print(\"Contains a digit:\",x)\n",
    "            continue\n",
    "        if(re.search(\"[!@#$%^&*()_+\\{\\}:<>?]\",x)):\n",
    "            strength=strength+1\n",
    "            print(\"Contains a special character:\",x)\n",
    "            continue\n",
    "    if(strength>=4):\n",
    "        print(\"\\nPassword is accepted & The strength of Password:\", strength)\n",
    "s=\"Christ@123}\"\n",
    "checkpass(s)"
   ]
  }
 ],
 "metadata": {
  "kernelspec": {
   "display_name": "Python 3",
   "language": "python",
   "name": "python3"
  },
  "language_info": {
   "codemirror_mode": {
    "name": "ipython",
    "version": 3
   },
   "file_extension": ".py",
   "mimetype": "text/x-python",
   "name": "python",
   "nbconvert_exporter": "python",
   "pygments_lexer": "ipython3",
   "version": "3.11.4"
  },
  "orig_nbformat": 4
 },
 "nbformat": 4,
 "nbformat_minor": 2
}
