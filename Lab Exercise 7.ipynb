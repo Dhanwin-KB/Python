{
 "cells": [
  {
   "cell_type": "code",
   "execution_count": 5,
   "metadata": {},
   "outputs": [
    {
     "name": "stdout",
     "output_type": "stream",
     "text": [
      "Array I : \n",
      " [[1 7 7]\n",
      " [5 7 1]\n",
      " [5 5 7]]\n",
      "Array II : \n",
      " [[4 1 2]\n",
      " [4 1 5]\n",
      " [1 5 2]]\n",
      "Multiplication : \n",
      " [[ 4  7 14]\n",
      " [20  7  5]\n",
      " [ 5 25 14]]\n",
      "Product : \n",
      " 480200000\n",
      "Dot : \n",
      " [[39 43 51]\n",
      " [49 17 47]\n",
      " [47 45 49]]\n"
     ]
    }
   ],
   "source": [
    "import numpy as np\n",
    "arr1=np.random.randint(1,9,(3,3))\n",
    "arr2=np.random.randint(1,9,(3,3))\n",
    "print(\"Array I : \\n\",arr1)\n",
    "print(\"Array II : \\n\",arr2)\n",
    "print(\"Multiplication : \\n\",np.multiply(arr1,arr2))\n",
    "print(\"Product : \\n\",np.prod([arr1,arr2]))\n",
    "print(\"Dot : \\n\", np.dot(arr1,arr2))"
   ]
  },
  {
   "cell_type": "code",
   "execution_count": 7,
   "metadata": {},
   "outputs": [
    {
     "name": "stdout",
     "output_type": "stream",
     "text": [
      "Union : \n",
      " [ 5  6  7  8  9 10]\n",
      "Intersection : \n",
      " [7 8 9]\n",
      "Set Difference : \n",
      " [5 6]\n",
      "XOR : \n",
      " [ 5  6 10]\n"
     ]
    }
   ],
   "source": [
    "import numpy as np\n",
    "arr1=np.array([5,6,7,8,9])\n",
    "arr2=np.array([7,8,9,10])\n",
    "print(\"Union : \\n\",np.union1d(arr1, arr2))\n",
    "print(\"Intersection : \\n\",np.intersect1d(arr1, arr2, assume_unique=True))\n",
    "print(\"Set Difference : \\n\",np.setdiff1d(arr1, arr2, assume_unique=True))\n",
    "print(\"XOR : \\n\",np.setxor1d(arr1,arr2))"
   ]
  },
  {
   "cell_type": "code",
   "execution_count": 16,
   "metadata": {},
   "outputs": [
    {
     "name": "stdout",
     "output_type": "stream",
     "text": [
      "Cumulative Sum: [ 7 15 23 25 32 41 46 48]\n",
      "Cumulative Product: [     7     56    448    896   6272  56448 282240 564480]\n",
      "Discrete Difference: [[ 1  0 -6  5  2 -4 -3]]\n",
      "Unique: [2 5 7 8 9]\n"
     ]
    }
   ],
   "source": [
    "import numpy as np\n",
    "x = np.random.randint(1,10, size=(1,8))\n",
    "print(\"Cumulative Sum:\",np.cumsum(x))\n",
    "print(\"Cumulative Product:\",np.cumprod(x))\n",
    "print(\"Discrete Difference:\",np.diff(x))\n",
    "print(\"Unique:\",np.unique(x))"
   ]
  },
  {
   "cell_type": "code",
   "execution_count": 25,
   "metadata": {},
   "outputs": [
    {
     "name": "stdout",
     "output_type": "stream",
     "text": [
      "Array I : [5 6 7 8 9]\n",
      "Array II : [ 7  8  9 10  0]\n",
      "Zip() : [12, 14, 16, 18, 9]\n",
      "Add() : [12 14 16 18  9]\n",
      "FromPyFunc() : [12 14 16 18 9]\n"
     ]
    }
   ],
   "source": [
    "import numpy as np\n",
    "z=[]\n",
    "def sum(x, y):\n",
    "  return x+y\n",
    "arr1=np.array([5,6,7,8,9])\n",
    "print(\"Array I :\",arr1)\n",
    "arr2=np.array([7,8,9,10,0])\n",
    "print(\"Array II :\",arr2)\n",
    "for i, j in zip(arr1, arr2):\n",
    "  z.append(i + j)\n",
    "print(\"Zip() :\",z)\n",
    "arr3=np.add(arr1,arr2)\n",
    "print(\"Add() :\",arr3)\n",
    "sum = np.frompyfunc(sum, 2, 1)\n",
    "print(\"FromPyFunc() :\",sum(arr1, arr2))"
   ]
  },
  {
   "cell_type": "code",
   "execution_count": 33,
   "metadata": {},
   "outputs": [
    {
     "name": "stdout",
     "output_type": "stream",
     "text": [
      "[[ 1  2  3  4  5  6  7  8  9 10]]\n",
      "LCM using reduce() :  [ 1  2  3  4  5  6  7  8  9 10]\n",
      "HCF using reduce() :  [ 1  2  3  4  5  6  7  8  9 10]\n"
     ]
    }
   ],
   "source": [
    "import numpy as np\n",
    "arr=np.array([1,2,3,4,5,6,7,8,9,10])\n",
    "print(arr)\n",
    "print(\"LCM using reduce() : \",np.lcm.reduce(arr))\n",
    "print(\"HCF using reduce() : \",np.gcd.reduce(arr))"
   ]
  }
 ],
 "metadata": {
  "kernelspec": {
   "display_name": "Python 3",
   "language": "python",
   "name": "python3"
  },
  "language_info": {
   "codemirror_mode": {
    "name": "ipython",
    "version": 3
   },
   "file_extension": ".py",
   "mimetype": "text/x-python",
   "name": "python",
   "nbconvert_exporter": "python",
   "pygments_lexer": "ipython3",
   "version": "3.11.5"
  },
  "orig_nbformat": 4
 },
 "nbformat": 4,
 "nbformat_minor": 2
}
