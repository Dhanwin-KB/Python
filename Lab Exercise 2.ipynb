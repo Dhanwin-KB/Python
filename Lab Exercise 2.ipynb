{
 "cells": [
  {
   "cell_type": "code",
   "execution_count": 72,
   "metadata": {},
   "outputs": [
    {
     "name": "stdout",
     "output_type": "stream",
     "text": [
      "List: [1, 'dhanwin', 'password', 24032001, True, False, 165.5, 61.5]\n",
      "List (appended) : [1, 'dhanwin', 'password', 24032001, True, False, 165.5, 61.5, 'a', 'b']\n"
     ]
    }
   ],
   "source": [
    "#Create a List with your domain attributes and insert the elements using the append ()\n",
    "i=0\n",
    "user=[1,\"dhanwin\",\"password\",24032001,True,False,165.5,61.5]\n",
    "print(\"List:\",user)\n",
    "noe=int(input(\"Enter the no. of elements you wish to append:\"))\n",
    "for i in range(0,noe):\n",
    "    val=input(\"Enter the element you wish to append:\")\n",
    "    user.append(val)\n",
    "print(\"List (appended) :\",user)"
   ]
  },
  {
   "cell_type": "code",
   "execution_count": 69,
   "metadata": {},
   "outputs": [
    {
     "name": "stdout",
     "output_type": "stream",
     "text": [
      "[1, '3', 'dhanwin', '2', '1', 'password', 24032001, True, False, 165.5, 61.5]\n"
     ]
    }
   ],
   "source": [
    "#Create a List with your domain attributes and insert the elements using the insert ()\n",
    "i=0\n",
    "user=[1,\"dhanwin\",\"password\",24032001,True,False,165.5,61.5]\n",
    "noe=int(input(\"Enter the no. of elements you wish to insert:\"))\n",
    "for i in range(0,noe):\n",
    "    val=input(\"Enter the element you wish to insert:\")\n",
    "    indx=int(input(\"Enter the index where element must be inserted:\"))\n",
    "    user.insert(indx,val)\n",
    "print(user)"
   ]
  },
  {
   "cell_type": "code",
   "execution_count": 68,
   "metadata": {},
   "outputs": [
    {
     "name": "stdout",
     "output_type": "stream",
     "text": [
      "The first list :  [1, 'dhanwin', 'password', 24032001, True, False, 165.5, 61.5]\n",
      "The second list :  ['100', 'dkb@mail.com']\n",
      "The extended list :  [1, 'dhanwin', 'password', 24032001, True, False, 165.5, 61.5, '100', 'dkb@mail.com']\n"
     ]
    }
   ],
   "source": [
    "#Create a List with your domain attributes and insert the elements using the extend()\n",
    "user=[1,\"dhanwin\",\"password\",24032001,True,False,165.5,61.5]\n",
    "contact=[\"100\",\"dkb@mail.com\"]\n",
    "print(\"The first list : \",user)\n",
    "print(\"The second list : \",contact)\n",
    "user.extend(contact)\n",
    "print(\"The extended list : \",user)"
   ]
  },
  {
   "cell_type": "code",
   "execution_count": 67,
   "metadata": {},
   "outputs": [
    {
     "name": "stdout",
     "output_type": "stream",
     "text": [
      "[1, 'dhanwin', 'password', 24032001, True, False, 165.5, 61.5]\n",
      "('anirudh', 'biju', 'chandra', 'lily', 'eric')\n",
      "{False, 'Dark Mode', True}\n",
      "[1, 'dhanwin', 'password', 24032001, True, False, 165.5, 61.5, ('anirudh', 'biju', 'chandra', 'lily', 'eric'), {False, 'Dark Mode', True}]\n"
     ]
    }
   ],
   "source": [
    "#Add any iterables (tuples, sets, dictionaries etc.) to the list (Use all the methods)#\n",
    "user=[1,\"dhanwin\",\"password\",24032001,True,False,165.5,61.5]\n",
    "print(user)\n",
    "followers=(\"anirudh\",\"biju\",\"chandra\",\"lily\",\"eric\")\n",
    "print(followers)\n",
    "settings={\"Dark Mode\",True,False}\n",
    "print(settings)\n",
    "user.append(followers)\n",
    "user.append(settings)\n",
    "print(user)"
   ]
  },
  {
   "cell_type": "code",
   "execution_count": 21,
   "metadata": {},
   "outputs": [
    {
     "name": "stdout",
     "output_type": "stream",
     "text": [
      "9\n",
      "Sum: 65\n",
      "Smallest Number: 0\n"
     ]
    }
   ],
   "source": [
    "#Create a list with numeric and perform the following operations.\n",
    "num=[0,1,10,3,5,19,20,5,2]\n",
    "n=len(num)\n",
    "print(n)\n",
    "temp=0\n",
    "#Write a program to swap the first and last elements in a list.\n",
    "temp=num[0]\n",
    "num[0]=num[n-1]\n",
    "num[n-1]=temp\n",
    "#Write a program to find the sum of the digits in a list.\n",
    "sum=0\n",
    "for i in range(0,n-1):\n",
    "    sum=sum+num[i]\n",
    "print(\"Sum:\",sum)\n",
    "#Write a program to find the smallest element in a list.\n",
    "min=num[0]\n",
    "for i in num:\n",
    "    if (i<=min):\n",
    "        min=i\n",
    "print(\"Smallest Number:\",min)"
   ]
  },
  {
   "cell_type": "code",
   "execution_count": 44,
   "metadata": {},
   "outputs": [
    {
     "name": "stdout",
     "output_type": "stream",
     "text": [
      "{2: 'DeeKayBee', 3: 'LeShivu', 1: 'Bobby', 5: 'Joe', 4: 'Otis'}\n",
      "[(1, 'Bobby'), (2, 'DeeKayBee'), (3, 'LeShivu'), (4, 'Otis'), (5, 'Joe')]\n"
     ]
    }
   ],
   "source": [
    "#Sort the dictionaries in ascending order based on the Key of the dictionary.\n",
    "user= {2: 'DeeKayBee',3: 'LeShivu',1: 'Bobby' ,5: 'Joe',4: 'Otis'}\n",
    "#i=1\n",
    "print(user)\n",
    "#for i in user:\n",
    "    #if (user[i]>user[i+1]):\n",
    "        #temp=user[i]\n",
    "        #user[i+1]=user[i]\n",
    "        #user[i]=temp\n",
    "sorteduser=sorted(user.items())\n",
    "print(sorteduser)"
   ]
  },
  {
   "cell_type": "code",
   "execution_count": 51,
   "metadata": {},
   "outputs": [
    {
     "name": "stdout",
     "output_type": "stream",
     "text": [
      "{1: 1, 2: 2, 3: 3, 4: 4, 5: 5}\n",
      "sum: 15\n"
     ]
    }
   ],
   "source": [
    "#Create the dictionary with Numeric as Value in Key – Value pair and find the sum of all the values in the Dictionary.\n",
    "user= {1: 1,2: 2,3: 3 ,4: 4,5: 5}\n",
    "print(user)\n",
    "sum=0\n",
    "for key,value in user.items():\n",
    "    sum=sum+value\n",
    "print(\"sum:\",sum)"
   ]
  },
  {
   "cell_type": "code",
   "execution_count": 66,
   "metadata": {},
   "outputs": [
    {
     "name": "stdout",
     "output_type": "stream",
     "text": [
      "{2: 'DeeKayBee', 3: 'LeShivu', 1: 'Bobby', 5: 'Joe', 4: 'Otis'}\n",
      "[(5, 'Joe'), (4, 'Otis'), (3, 'LeShivu'), (2, 'DeeKayBee'), (1, 'Bobby')]\n"
     ]
    }
   ],
   "source": [
    "#Write a Python code to demonstrate the sorting in descending order of values with lambda function.\n",
    "user= {2: 'DeeKayBee',3: 'LeShivu',1: 'Bobby' ,5: 'Joe',4: 'Otis'}\n",
    "sorteduser=sorted(user.items(), key=lambda x: x,reverse=True)\n",
    "print(user)\n",
    "print(sorteduser)"
   ]
  }
 ],
 "metadata": {
  "kernelspec": {
   "display_name": "Python 3",
   "language": "python",
   "name": "python3"
  },
  "language_info": {
   "codemirror_mode": {
    "name": "ipython",
    "version": 3
   },
   "file_extension": ".py",
   "mimetype": "text/x-python",
   "name": "python",
   "nbconvert_exporter": "python",
   "pygments_lexer": "ipython3",
   "version": "3.11.4"
  },
  "orig_nbformat": 4
 },
 "nbformat": 4,
 "nbformat_minor": 2
}
