{
 "cells": [
  {
   "cell_type": "code",
   "execution_count": 16,
   "metadata": {},
   "outputs": [
    {
     "name": "stdout",
     "output_type": "stream",
     "text": [
      "[['User ID' 'Gender' 'Age' 'EstimatedSalary' 'Purchased']\n",
      " ['15624510' 'Male' '19' '19000' '0']\n",
      " ['15810944' 'Male' '35' '20000' '0']\n",
      " ...\n",
      " ['15654296' 'Female' '50' '20000' '1']\n",
      " ['15755018' 'Male' '36' '33000' '0']\n",
      " ['15594041' 'Female' '49' '36000' '1']]\n",
      "\n",
      "[['15624510' 'Male' '19' '19000' '0']\n",
      " ['15810944' 'Male' '35' '20000' '0']\n",
      " ['15668575' 'Female' '26' '43000' '0']\n",
      " ['15603246' 'Female' '27' '57000' '0']\n",
      " ['15804002' 'Male' '19' '76000' '0']\n",
      " ['15728773' 'Male' '27' '58000' '0']\n",
      " ['15598044' 'Female' '27' '84000' '0']\n",
      " ['15694829' 'Female' '32' '150000' '1']\n",
      " ['15600575' 'Male' '25' '33000' '0']\n",
      " ['15727311' 'Female' '35' '65000' '0']]\n",
      "15624510\n"
     ]
    }
   ],
   "source": [
    "import numpy as np\n",
    "import csv\n",
    "df= pd.read_csv('Titanic.csv')\n",
    "data_array = np.array(data)\n",
    "print(data_array)\n",
    "print(\"\")\n",
    "print(data_array[1:11])\n",
    "print(data_array[1, 0])"
   ]
  }
 ],
 "metadata": {
  "kernelspec": {
   "display_name": "Python 3",
   "language": "python",
   "name": "python3"
  },
  "language_info": {
   "codemirror_mode": {
    "name": "ipython",
    "version": 3
   },
   "file_extension": ".py",
   "mimetype": "text/x-python",
   "name": "python",
   "nbconvert_exporter": "python",
   "pygments_lexer": "ipython3",
   "version": "3.11.5"
  },
  "orig_nbformat": 4
 },
 "nbformat": 4,
 "nbformat_minor": 2
}
