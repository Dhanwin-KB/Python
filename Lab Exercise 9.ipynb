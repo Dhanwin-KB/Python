{
 "cells": [
  {
   "cell_type": "code",
   "execution_count": 1,
   "metadata": {},
   "outputs": [
    {
     "name": "stdout",
     "output_type": "stream",
     "text": [
      "[ 1  2  3  4  5  6  7  8  9 10]\n",
      "Simple Indexing: 4\n",
      "Fancy Indexing: [2 4 6 8]\n"
     ]
    }
   ],
   "source": [
    "# Q1. Write a program to distinguish between Array Indexing and Fancy Indexing.\n",
    "import numpy as np\n",
    "arr = np.array([1, 2, 3, 4, 5, 6, 7, 8, 9, 10])\n",
    "print(arr)\n",
    "simple_index = arr[3]\n",
    "# We use a single valued index in the array\n",
    "print(\"Simple Indexing:\", simple_index)\n",
    "fancy_index = arr[[1, 3, 5, 7]]\n",
    "# We use an array of indices in the array\n",
    "print(\"Fancy Indexing:\", fancy_index)"
   ]
  },
  {
   "cell_type": "code",
   "execution_count": 2,
   "metadata": {},
   "outputs": [
    {
     "name": "stdout",
     "output_type": "stream",
     "text": [
      "[[1 2 3 4]\n",
      " [5 6 7 8]]\n",
      "\n",
      "\n",
      "[[3 4]\n",
      " [7 8]]\n",
      "[2 3]\n",
      "[3]\n"
     ]
    }
   ],
   "source": [
    "# Q2. Execute the 2D array Slicing.\n",
    "\n",
    "import numpy as np\n",
    "arr = np.array([[1, 2, 3, 4], [5, 6, 7, 8]])\n",
    "print(arr)\n",
    "print(\"\\n\")\n",
    "print(arr[0:2, 2:5])\n",
    "print(arr[0, 1:3]) \n",
    "print(arr[0:1, 2])"
   ]
  },
  {
   "cell_type": "code",
   "execution_count": 3,
   "metadata": {},
   "outputs": [
    {
     "name": "stdout",
     "output_type": "stream",
     "text": [
      "[[[[[1 2 3 4 5 6 7 8 9]]]]]\n"
     ]
    }
   ],
   "source": [
    "# Q3. Create the 5-Dimensional arrays using ‘ndmin’.\n",
    "\n",
    "import numpy as np\n",
    "arr = np.array([1, 2, 3, 4, 5, 6, 7, 8, 9], ndmin=5)\n",
    "print(arr)"
   ]
  },
  {
   "cell_type": "code",
   "execution_count": 4,
   "metadata": {},
   "outputs": [
    {
     "name": "stdout",
     "output_type": "stream",
     "text": [
      "[[1 2 3 4]\n",
      " [5 6 7 8]]\n"
     ]
    }
   ],
   "source": [
    "# Q4. Reshape the array from 1-D to 2-D array.\n",
    "\n",
    "import numpy as np\n",
    "arr = np.array([1, 2, 3, 4, 5, 6, 7, 8])\n",
    "newarr = arr.reshape(2, 4)\n",
    "print(newarr)"
   ]
  },
  {
   "cell_type": "code",
   "execution_count": 5,
   "metadata": {},
   "outputs": [
    {
     "name": "stdout",
     "output_type": "stream",
     "text": [
      "Array I : [0 2 3 4]\n",
      "Array II : [7 2 2 1]\n",
      "stack()\n",
      " [[0 2 3 4]\n",
      " [7 2 2 1]]\n",
      "hstack()\n",
      " [0 2 3 4 7 2 2 1]\n",
      "vstack()\n",
      " [[0 2 3 4]\n",
      " [7 2 2 1]]\n",
      "dstack()\n",
      " [[[0 7]\n",
      "  [2 2]\n",
      "  [3 2]\n",
      "  [4 1]]]\n"
     ]
    }
   ],
   "source": [
    "# Q5. Perform the Stack functions in Numpy arrays – stack(), hstack(), vstack(), and dstack().\n",
    "\n",
    "import numpy as np\n",
    "arr1 = np.array([0 ,2, 3, 4])\n",
    "arr2 = np.array([7, 2, 2, 1])\n",
    "print(\"Array I :\",arr1)\n",
    "print(\"Array II :\",arr2)\n",
    "arr = np.stack((arr1, arr2), axis=0) #stack()\n",
    "print(\"stack()\\n\",arr)\n",
    "arr = np.hstack((arr1, arr2)) #hstack()\n",
    "print(\"hstack()\\n\",arr)\n",
    "arr = np.vstack((arr1, arr2)) #vstack()\n",
    "print(\"vstack()\\n\",arr)\n",
    "arr = np.dstack((arr1, arr2)) #dstack()\n",
    "print(\"dstack()\\n\",arr)"
   ]
  },
  {
   "cell_type": "code",
   "execution_count": 9,
   "metadata": {},
   "outputs": [
    {
     "name": "stdout",
     "output_type": "stream",
     "text": [
      "2\n",
      "0\n"
     ]
    }
   ],
   "source": [
    "# Q6. Perform the searchsort method in Numpy array.\n",
    "\n",
    "import numpy as np\n",
    "arr = np.array([5, 6, 8, 9])\n",
    "x = np.searchsorted(arr, 7)\n",
    "print(x)\n",
    "x = np.searchsorted(arr, 1)\n",
    "print(x)"
   ]
  },
  {
   "cell_type": "code",
   "execution_count": 10,
   "metadata": {},
   "outputs": [
    {
     "name": "stdout",
     "output_type": "stream",
     "text": [
      "[('Dhanwin KB', 'dkbiscool', 22, 'dkb@gmail.com')\n",
      " ('Anirudh Ra', 'rajniismyuncle', 32, 'ani@gmail.com')\n",
      " ('Mohanlal', 'iamcompleteactor', 69, 'a10@gmail.com')]\n"
     ]
    }
   ],
   "source": [
    "# Q7. Create Numpy Structured array using your domain features.\n",
    "# My domain is Regional Social Networking App so The Numpy Structured Array is based on User Details\n",
    "\n",
    "import numpy as np\n",
    "arr = np.array([('Dhanwin KB', 'dkbiscool', 22, 'dkb@gmail.com'), ('Anirudh Ravichander', 'rajniismyuncle', 32, 'ani@gmail.com'), ('Mohanlal', 'iamcompleteactor', 69,'a10@gmail.com')],\n",
    "       dtype=[('uname', (np.str_, 10)), ('password', (np.str_, 25)), ('age', np.int32), ('mailid', (np.str_, 50))])\n",
    "print(arr) "
   ]
  },
  {
   "cell_type": "code",
   "execution_count": 11,
   "metadata": {},
   "outputs": [
    {
     "name": "stdout",
     "output_type": "stream",
     "text": [
      "list : ['DKB', 'ARR', 'ANI', 'A10'] \n",
      "\n",
      "           abbr. names\n",
      "upcoming          DKB\n",
      "goat              ARR\n",
      "next goat         ANI\n",
      "vintage           A10\n"
     ]
    }
   ],
   "source": [
    "# Q8. Create Data frame using List and Dictionary.\n",
    "\n",
    "import pandas as pd\n",
    "l1 = ['DKB', 'ARR', 'ANI', 'A10']\n",
    "df = pd.DataFrame(l1, index =['upcoming', 'goat', 'next goat', 'vintage'],columns =['abbr. names'])\n",
    "print(\"list :\",l1,'\\n\\n',df)"
   ]
  },
  {
   "cell_type": "code",
   "execution_count": 12,
   "metadata": {},
   "outputs": [],
   "source": [
    "# Q9. Create Data frame on your Domain area and perform the following operations to find and eliminate the\n",
    "# missing data from the dataset.\n",
    "\n",
    "import pandas as pd\n",
    "usr_db = {\n",
    "  \"unames\": ['Dhanwin KB','Anirudh Ravichander','Mohanlal','Mammootty'],\n",
    "  \"passwords\": ['dkbiscool','rajniismyuncle','iamcompleteactor','iamyoungerthandq'],\n",
    "  \"age\": [22,32,np.nan,72],\n",
    "  \"mailid\": ['dkb@gmail.com','rajniismyuncle','a10@gmail.com','ikka@gmail.com']\n",
    "}\n",
    "df = pd.DataFrame(usr_db, index = [\"1\", \"2\", \"3\", \"4\"])"
   ]
  },
  {
   "cell_type": "code",
   "execution_count": 13,
   "metadata": {},
   "outputs": [
    {
     "name": "stdout",
     "output_type": "stream",
     "text": [
      "                unames         passwords   age          mailid\n",
      "1           Dhanwin KB         dkbiscool  22.0   dkb@gmail.com\n",
      "2  Anirudh Ravichander    rajniismyuncle  32.0  rajniismyuncle\n",
      "3             Mohanlal  iamcompleteactor   NaN   a10@gmail.com\n",
      "4            Mammootty  iamyoungerthandq  72.0  ikka@gmail.com\n"
     ]
    },
    {
     "data": {
      "text/html": [
       "<div>\n",
       "<style scoped>\n",
       "    .dataframe tbody tr th:only-of-type {\n",
       "        vertical-align: middle;\n",
       "    }\n",
       "\n",
       "    .dataframe tbody tr th {\n",
       "        vertical-align: top;\n",
       "    }\n",
       "\n",
       "    .dataframe thead th {\n",
       "        text-align: right;\n",
       "    }\n",
       "</style>\n",
       "<table border=\"1\" class=\"dataframe\">\n",
       "  <thead>\n",
       "    <tr style=\"text-align: right;\">\n",
       "      <th></th>\n",
       "      <th>unames</th>\n",
       "      <th>passwords</th>\n",
       "      <th>age</th>\n",
       "      <th>mailid</th>\n",
       "    </tr>\n",
       "  </thead>\n",
       "  <tbody>\n",
       "    <tr>\n",
       "      <th>1</th>\n",
       "      <td>False</td>\n",
       "      <td>False</td>\n",
       "      <td>False</td>\n",
       "      <td>False</td>\n",
       "    </tr>\n",
       "    <tr>\n",
       "      <th>2</th>\n",
       "      <td>False</td>\n",
       "      <td>False</td>\n",
       "      <td>False</td>\n",
       "      <td>False</td>\n",
       "    </tr>\n",
       "    <tr>\n",
       "      <th>3</th>\n",
       "      <td>False</td>\n",
       "      <td>False</td>\n",
       "      <td>True</td>\n",
       "      <td>False</td>\n",
       "    </tr>\n",
       "    <tr>\n",
       "      <th>4</th>\n",
       "      <td>False</td>\n",
       "      <td>False</td>\n",
       "      <td>False</td>\n",
       "      <td>False</td>\n",
       "    </tr>\n",
       "  </tbody>\n",
       "</table>\n",
       "</div>"
      ],
      "text/plain": [
       "   unames  passwords    age  mailid\n",
       "1   False      False  False   False\n",
       "2   False      False  False   False\n",
       "3   False      False   True   False\n",
       "4   False      False  False   False"
      ]
     },
     "execution_count": 13,
     "metadata": {},
     "output_type": "execute_result"
    }
   ],
   "source": [
    "# • isnull()\n",
    "\n",
    "print(df)\n",
    "df.isnull()"
   ]
  },
  {
   "cell_type": "code",
   "execution_count": 14,
   "metadata": {},
   "outputs": [
    {
     "name": "stdout",
     "output_type": "stream",
     "text": [
      "                unames         passwords   age          mailid\n",
      "1           Dhanwin KB         dkbiscool  22.0   dkb@gmail.com\n",
      "2  Anirudh Ravichander    rajniismyuncle  32.0  rajniismyuncle\n",
      "3             Mohanlal  iamcompleteactor   NaN   a10@gmail.com\n",
      "4            Mammootty  iamyoungerthandq  72.0  ikka@gmail.com\n"
     ]
    },
    {
     "data": {
      "text/html": [
       "<div>\n",
       "<style scoped>\n",
       "    .dataframe tbody tr th:only-of-type {\n",
       "        vertical-align: middle;\n",
       "    }\n",
       "\n",
       "    .dataframe tbody tr th {\n",
       "        vertical-align: top;\n",
       "    }\n",
       "\n",
       "    .dataframe thead th {\n",
       "        text-align: right;\n",
       "    }\n",
       "</style>\n",
       "<table border=\"1\" class=\"dataframe\">\n",
       "  <thead>\n",
       "    <tr style=\"text-align: right;\">\n",
       "      <th></th>\n",
       "      <th>unames</th>\n",
       "      <th>passwords</th>\n",
       "      <th>age</th>\n",
       "      <th>mailid</th>\n",
       "    </tr>\n",
       "  </thead>\n",
       "  <tbody>\n",
       "    <tr>\n",
       "      <th>1</th>\n",
       "      <td>True</td>\n",
       "      <td>True</td>\n",
       "      <td>True</td>\n",
       "      <td>True</td>\n",
       "    </tr>\n",
       "    <tr>\n",
       "      <th>2</th>\n",
       "      <td>True</td>\n",
       "      <td>True</td>\n",
       "      <td>True</td>\n",
       "      <td>True</td>\n",
       "    </tr>\n",
       "    <tr>\n",
       "      <th>3</th>\n",
       "      <td>True</td>\n",
       "      <td>True</td>\n",
       "      <td>False</td>\n",
       "      <td>True</td>\n",
       "    </tr>\n",
       "    <tr>\n",
       "      <th>4</th>\n",
       "      <td>True</td>\n",
       "      <td>True</td>\n",
       "      <td>True</td>\n",
       "      <td>True</td>\n",
       "    </tr>\n",
       "  </tbody>\n",
       "</table>\n",
       "</div>"
      ],
      "text/plain": [
       "   unames  passwords    age  mailid\n",
       "1    True       True   True    True\n",
       "2    True       True   True    True\n",
       "3    True       True  False    True\n",
       "4    True       True   True    True"
      ]
     },
     "execution_count": 14,
     "metadata": {},
     "output_type": "execute_result"
    }
   ],
   "source": [
    "# • notnull()\n",
    "\n",
    "print(df)\n",
    "df.notnull()"
   ]
  },
  {
   "cell_type": "code",
   "execution_count": 15,
   "metadata": {},
   "outputs": [
    {
     "name": "stdout",
     "output_type": "stream",
     "text": [
      "                unames         passwords   age          mailid\n",
      "1           Dhanwin KB         dkbiscool  22.0   dkb@gmail.com\n",
      "2  Anirudh Ravichander    rajniismyuncle  32.0  rajniismyuncle\n",
      "3             Mohanlal  iamcompleteactor   NaN   a10@gmail.com\n",
      "4            Mammootty  iamyoungerthandq  72.0  ikka@gmail.com\n"
     ]
    },
    {
     "data": {
      "text/html": [
       "<div>\n",
       "<style scoped>\n",
       "    .dataframe tbody tr th:only-of-type {\n",
       "        vertical-align: middle;\n",
       "    }\n",
       "\n",
       "    .dataframe tbody tr th {\n",
       "        vertical-align: top;\n",
       "    }\n",
       "\n",
       "    .dataframe thead th {\n",
       "        text-align: right;\n",
       "    }\n",
       "</style>\n",
       "<table border=\"1\" class=\"dataframe\">\n",
       "  <thead>\n",
       "    <tr style=\"text-align: right;\">\n",
       "      <th></th>\n",
       "      <th>unames</th>\n",
       "      <th>passwords</th>\n",
       "      <th>age</th>\n",
       "      <th>mailid</th>\n",
       "    </tr>\n",
       "  </thead>\n",
       "  <tbody>\n",
       "    <tr>\n",
       "      <th>1</th>\n",
       "      <td>Dhanwin KB</td>\n",
       "      <td>dkbiscool</td>\n",
       "      <td>22.0</td>\n",
       "      <td>dkb@gmail.com</td>\n",
       "    </tr>\n",
       "    <tr>\n",
       "      <th>2</th>\n",
       "      <td>Anirudh Ravichander</td>\n",
       "      <td>rajniismyuncle</td>\n",
       "      <td>32.0</td>\n",
       "      <td>rajniismyuncle</td>\n",
       "    </tr>\n",
       "    <tr>\n",
       "      <th>4</th>\n",
       "      <td>Mammootty</td>\n",
       "      <td>iamyoungerthandq</td>\n",
       "      <td>72.0</td>\n",
       "      <td>ikka@gmail.com</td>\n",
       "    </tr>\n",
       "  </tbody>\n",
       "</table>\n",
       "</div>"
      ],
      "text/plain": [
       "                unames         passwords   age          mailid\n",
       "1           Dhanwin KB         dkbiscool  22.0   dkb@gmail.com\n",
       "2  Anirudh Ravichander    rajniismyuncle  32.0  rajniismyuncle\n",
       "4            Mammootty  iamyoungerthandq  72.0  ikka@gmail.com"
      ]
     },
     "execution_count": 15,
     "metadata": {},
     "output_type": "execute_result"
    }
   ],
   "source": [
    "# • dropna()\n",
    "\n",
    "print(df)\n",
    "df.dropna()"
   ]
  },
  {
   "cell_type": "code",
   "execution_count": 16,
   "metadata": {},
   "outputs": [
    {
     "name": "stdout",
     "output_type": "stream",
     "text": [
      "                unames         passwords   age          mailid\n",
      "1           Dhanwin KB         dkbiscool  22.0   dkb@gmail.com\n",
      "2  Anirudh Ravichander    rajniismyuncle  32.0  rajniismyuncle\n",
      "3             Mohanlal  iamcompleteactor   NaN   a10@gmail.com\n",
      "4            Mammootty  iamyoungerthandq  72.0  ikka@gmail.com\n"
     ]
    },
    {
     "data": {
      "text/html": [
       "<div>\n",
       "<style scoped>\n",
       "    .dataframe tbody tr th:only-of-type {\n",
       "        vertical-align: middle;\n",
       "    }\n",
       "\n",
       "    .dataframe tbody tr th {\n",
       "        vertical-align: top;\n",
       "    }\n",
       "\n",
       "    .dataframe thead th {\n",
       "        text-align: right;\n",
       "    }\n",
       "</style>\n",
       "<table border=\"1\" class=\"dataframe\">\n",
       "  <thead>\n",
       "    <tr style=\"text-align: right;\">\n",
       "      <th></th>\n",
       "      <th>unames</th>\n",
       "      <th>passwords</th>\n",
       "      <th>age</th>\n",
       "      <th>mailid</th>\n",
       "    </tr>\n",
       "  </thead>\n",
       "  <tbody>\n",
       "    <tr>\n",
       "      <th>1</th>\n",
       "      <td>Dhanwin KB</td>\n",
       "      <td>dkbiscool</td>\n",
       "      <td>22.0</td>\n",
       "      <td>dkb@gmail.com</td>\n",
       "    </tr>\n",
       "    <tr>\n",
       "      <th>2</th>\n",
       "      <td>Anirudh Ravichander</td>\n",
       "      <td>rajniismyuncle</td>\n",
       "      <td>32.0</td>\n",
       "      <td>rajniismyuncle</td>\n",
       "    </tr>\n",
       "    <tr>\n",
       "      <th>3</th>\n",
       "      <td>Mohanlal</td>\n",
       "      <td>iamcompleteactor</td>\n",
       "      <td>0.0</td>\n",
       "      <td>a10@gmail.com</td>\n",
       "    </tr>\n",
       "    <tr>\n",
       "      <th>4</th>\n",
       "      <td>Mammootty</td>\n",
       "      <td>iamyoungerthandq</td>\n",
       "      <td>72.0</td>\n",
       "      <td>ikka@gmail.com</td>\n",
       "    </tr>\n",
       "  </tbody>\n",
       "</table>\n",
       "</div>"
      ],
      "text/plain": [
       "                unames         passwords   age          mailid\n",
       "1           Dhanwin KB         dkbiscool  22.0   dkb@gmail.com\n",
       "2  Anirudh Ravichander    rajniismyuncle  32.0  rajniismyuncle\n",
       "3             Mohanlal  iamcompleteactor   0.0   a10@gmail.com\n",
       "4            Mammootty  iamyoungerthandq  72.0  ikka@gmail.com"
      ]
     },
     "execution_count": 16,
     "metadata": {},
     "output_type": "execute_result"
    }
   ],
   "source": [
    "# • fillna(value)\n",
    "\n",
    "print(df)\n",
    "df.fillna(0)"
   ]
  },
  {
   "cell_type": "code",
   "execution_count": 17,
   "metadata": {},
   "outputs": [
    {
     "name": "stdout",
     "output_type": "stream",
     "text": [
      "                unames         passwords   age          mailid\n",
      "1           Dhanwin KB         dkbiscool  22.0   dkb@gmail.com\n",
      "2  Anirudh Ravichander    rajniismyuncle  32.0  rajniismyuncle\n",
      "3             Mohanlal  iamcompleteactor   NaN   a10@gmail.com\n",
      "4            Mammootty  iamyoungerthandq  72.0  ikka@gmail.com\n"
     ]
    },
    {
     "name": "stderr",
     "output_type": "stream",
     "text": [
      "C:\\Users\\USER\\AppData\\Local\\Temp\\ipykernel_9128\\4214753442.py:4: FutureWarning: DataFrame.fillna with 'method' is deprecated and will raise in a future version. Use obj.ffill() or obj.bfill() instead.\n",
      "  df.fillna(method='bfill')\n"
     ]
    },
    {
     "data": {
      "text/html": [
       "<div>\n",
       "<style scoped>\n",
       "    .dataframe tbody tr th:only-of-type {\n",
       "        vertical-align: middle;\n",
       "    }\n",
       "\n",
       "    .dataframe tbody tr th {\n",
       "        vertical-align: top;\n",
       "    }\n",
       "\n",
       "    .dataframe thead th {\n",
       "        text-align: right;\n",
       "    }\n",
       "</style>\n",
       "<table border=\"1\" class=\"dataframe\">\n",
       "  <thead>\n",
       "    <tr style=\"text-align: right;\">\n",
       "      <th></th>\n",
       "      <th>unames</th>\n",
       "      <th>passwords</th>\n",
       "      <th>age</th>\n",
       "      <th>mailid</th>\n",
       "    </tr>\n",
       "  </thead>\n",
       "  <tbody>\n",
       "    <tr>\n",
       "      <th>1</th>\n",
       "      <td>Dhanwin KB</td>\n",
       "      <td>dkbiscool</td>\n",
       "      <td>22.0</td>\n",
       "      <td>dkb@gmail.com</td>\n",
       "    </tr>\n",
       "    <tr>\n",
       "      <th>2</th>\n",
       "      <td>Anirudh Ravichander</td>\n",
       "      <td>rajniismyuncle</td>\n",
       "      <td>32.0</td>\n",
       "      <td>rajniismyuncle</td>\n",
       "    </tr>\n",
       "    <tr>\n",
       "      <th>3</th>\n",
       "      <td>Mohanlal</td>\n",
       "      <td>iamcompleteactor</td>\n",
       "      <td>72.0</td>\n",
       "      <td>a10@gmail.com</td>\n",
       "    </tr>\n",
       "    <tr>\n",
       "      <th>4</th>\n",
       "      <td>Mammootty</td>\n",
       "      <td>iamyoungerthandq</td>\n",
       "      <td>72.0</td>\n",
       "      <td>ikka@gmail.com</td>\n",
       "    </tr>\n",
       "  </tbody>\n",
       "</table>\n",
       "</div>"
      ],
      "text/plain": [
       "                unames         passwords   age          mailid\n",
       "1           Dhanwin KB         dkbiscool  22.0   dkb@gmail.com\n",
       "2  Anirudh Ravichander    rajniismyuncle  32.0  rajniismyuncle\n",
       "3             Mohanlal  iamcompleteactor  72.0   a10@gmail.com\n",
       "4            Mammootty  iamyoungerthandq  72.0  ikka@gmail.com"
      ]
     },
     "execution_count": 17,
     "metadata": {},
     "output_type": "execute_result"
    }
   ],
   "source": [
    "# • fillna(method)\n",
    "\n",
    "print(df)\n",
    "df.fillna(method='bfill')\n",
    "# df.fillna(method='ffill')"
   ]
  },
  {
   "cell_type": "code",
   "execution_count": 18,
   "metadata": {},
   "outputs": [
    {
     "name": "stdout",
     "output_type": "stream",
     "text": [
      "                unames         passwords   age          mailid\n",
      "1           Dhanwin KB         dkbiscool  22.0   dkb@gmail.com\n",
      "2  Anirudh Ravichander    rajniismyuncle  32.0  rajniismyuncle\n",
      "3             Mohanlal  iamcompleteactor   NaN   a10@gmail.com\n",
      "4            Mammootty  iamyoungerthandq  72.0  ikka@gmail.com\n"
     ]
    },
    {
     "data": {
      "text/html": [
       "<div>\n",
       "<style scoped>\n",
       "    .dataframe tbody tr th:only-of-type {\n",
       "        vertical-align: middle;\n",
       "    }\n",
       "\n",
       "    .dataframe tbody tr th {\n",
       "        vertical-align: top;\n",
       "    }\n",
       "\n",
       "    .dataframe thead th {\n",
       "        text-align: right;\n",
       "    }\n",
       "</style>\n",
       "<table border=\"1\" class=\"dataframe\">\n",
       "  <thead>\n",
       "    <tr style=\"text-align: right;\">\n",
       "      <th></th>\n",
       "      <th>unames</th>\n",
       "      <th>passwords</th>\n",
       "      <th>age</th>\n",
       "      <th>mailid</th>\n",
       "    </tr>\n",
       "  </thead>\n",
       "  <tbody>\n",
       "    <tr>\n",
       "      <th>1</th>\n",
       "      <td>Dhanwin KB</td>\n",
       "      <td>dkbiscool</td>\n",
       "      <td>22.0</td>\n",
       "      <td>dkb@gmail.com</td>\n",
       "    </tr>\n",
       "    <tr>\n",
       "      <th>2</th>\n",
       "      <td>Anirudh Ravichander</td>\n",
       "      <td>rajniismyuncle</td>\n",
       "      <td>32.0</td>\n",
       "      <td>rajniismyuncle</td>\n",
       "    </tr>\n",
       "    <tr>\n",
       "      <th>3</th>\n",
       "      <td>Mohanlal</td>\n",
       "      <td>iamcompleteactor</td>\n",
       "      <td>NaN</td>\n",
       "      <td>a10@gmail.com</td>\n",
       "    </tr>\n",
       "    <tr>\n",
       "      <th>4</th>\n",
       "      <td>Mammootty</td>\n",
       "      <td>iamolderthandq</td>\n",
       "      <td>72.0</td>\n",
       "      <td>ikka@gmail.com</td>\n",
       "    </tr>\n",
       "  </tbody>\n",
       "</table>\n",
       "</div>"
      ],
      "text/plain": [
       "                unames         passwords   age          mailid\n",
       "1           Dhanwin KB         dkbiscool  22.0   dkb@gmail.com\n",
       "2  Anirudh Ravichander    rajniismyuncle  32.0  rajniismyuncle\n",
       "3             Mohanlal  iamcompleteactor   NaN   a10@gmail.com\n",
       "4            Mammootty    iamolderthandq  72.0  ikka@gmail.com"
      ]
     },
     "execution_count": 18,
     "metadata": {},
     "output_type": "execute_result"
    }
   ],
   "source": [
    "# • replace()\n",
    "\n",
    "print(df)\n",
    "df.replace('iamyoungerthandq','iamolderthandq')"
   ]
  },
  {
   "cell_type": "code",
   "execution_count": 19,
   "metadata": {},
   "outputs": [
    {
     "name": "stdout",
     "output_type": "stream",
     "text": [
      "                unames         passwords   age          mailid\n",
      "1           Dhanwin KB         dkbiscool  22.0   dkb@gmail.com\n",
      "2  Anirudh Ravichander    rajniismyuncle  32.0  rajniismyuncle\n",
      "3             Mohanlal  iamcompleteactor   NaN   a10@gmail.com\n",
      "4            Mammootty  iamyoungerthandq  72.0  ikka@gmail.com\n"
     ]
    },
    {
     "name": "stderr",
     "output_type": "stream",
     "text": [
      "C:\\Users\\USER\\AppData\\Local\\Temp\\ipykernel_9128\\2466800549.py:4: FutureWarning: DataFrame.interpolate with object dtype is deprecated and will raise in a future version. Call obj.infer_objects(copy=False) before interpolating instead.\n",
      "  df.interpolate()\n"
     ]
    },
    {
     "data": {
      "text/html": [
       "<div>\n",
       "<style scoped>\n",
       "    .dataframe tbody tr th:only-of-type {\n",
       "        vertical-align: middle;\n",
       "    }\n",
       "\n",
       "    .dataframe tbody tr th {\n",
       "        vertical-align: top;\n",
       "    }\n",
       "\n",
       "    .dataframe thead th {\n",
       "        text-align: right;\n",
       "    }\n",
       "</style>\n",
       "<table border=\"1\" class=\"dataframe\">\n",
       "  <thead>\n",
       "    <tr style=\"text-align: right;\">\n",
       "      <th></th>\n",
       "      <th>unames</th>\n",
       "      <th>passwords</th>\n",
       "      <th>age</th>\n",
       "      <th>mailid</th>\n",
       "    </tr>\n",
       "  </thead>\n",
       "  <tbody>\n",
       "    <tr>\n",
       "      <th>1</th>\n",
       "      <td>Dhanwin KB</td>\n",
       "      <td>dkbiscool</td>\n",
       "      <td>22.0</td>\n",
       "      <td>dkb@gmail.com</td>\n",
       "    </tr>\n",
       "    <tr>\n",
       "      <th>2</th>\n",
       "      <td>Anirudh Ravichander</td>\n",
       "      <td>rajniismyuncle</td>\n",
       "      <td>32.0</td>\n",
       "      <td>rajniismyuncle</td>\n",
       "    </tr>\n",
       "    <tr>\n",
       "      <th>3</th>\n",
       "      <td>Mohanlal</td>\n",
       "      <td>iamcompleteactor</td>\n",
       "      <td>52.0</td>\n",
       "      <td>a10@gmail.com</td>\n",
       "    </tr>\n",
       "    <tr>\n",
       "      <th>4</th>\n",
       "      <td>Mammootty</td>\n",
       "      <td>iamyoungerthandq</td>\n",
       "      <td>72.0</td>\n",
       "      <td>ikka@gmail.com</td>\n",
       "    </tr>\n",
       "  </tbody>\n",
       "</table>\n",
       "</div>"
      ],
      "text/plain": [
       "                unames         passwords   age          mailid\n",
       "1           Dhanwin KB         dkbiscool  22.0   dkb@gmail.com\n",
       "2  Anirudh Ravichander    rajniismyuncle  32.0  rajniismyuncle\n",
       "3             Mohanlal  iamcompleteactor  52.0   a10@gmail.com\n",
       "4            Mammootty  iamyoungerthandq  72.0  ikka@gmail.com"
      ]
     },
     "execution_count": 19,
     "metadata": {},
     "output_type": "execute_result"
    }
   ],
   "source": [
    "# • interpolate()\n",
    "\n",
    "print(df)\n",
    "df.interpolate()"
   ]
  },
  {
   "cell_type": "code",
   "execution_count": 20,
   "metadata": {},
   "outputs": [
    {
     "name": "stdout",
     "output_type": "stream",
     "text": [
      "                                 passwords          mailid\n",
      "unames              age                                   \n",
      "Dhanwin KB          22.0         dkbiscool   dkb@gmail.com\n",
      "Anirudh Ravichander 32.0    rajniismyuncle  rajniismyuncle\n",
      "Mohanlal            NaN   iamcompleteactor   a10@gmail.com\n",
      "Mammootty           72.0  iamyoungerthandq  ikka@gmail.com\n"
     ]
    }
   ],
   "source": [
    "# Q10. Perform the Hierarchical Indexing in the above created dataset.\n",
    "\n",
    "df.set_index(['unames', 'age'], inplace=True) #multi index made\n",
    "print(df)"
   ]
  }
 ],
 "metadata": {
  "kernelspec": {
   "display_name": "Python 3",
   "language": "python",
   "name": "python3"
  },
  "language_info": {
   "codemirror_mode": {
    "name": "ipython",
    "version": 3
   },
   "file_extension": ".py",
   "mimetype": "text/x-python",
   "name": "python",
   "nbconvert_exporter": "python",
   "pygments_lexer": "ipython3",
   "version": "3.11.5"
  },
  "orig_nbformat": 4
 },
 "nbformat": 4,
 "nbformat_minor": 2
}
