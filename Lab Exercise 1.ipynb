{
 "cells": [
  {
   "cell_type": "code",
   "execution_count": 3,
   "metadata": {},
   "outputs": [
    {
     "name": "stdout",
     "output_type": "stream",
     "text": [
      "Paragraph: \n",
      "My name is Dhanwin KB from class MCAB. My register number is 2347221 (2023-2025). The domain I have selected is Regional Social Networking App. Unlike all the saturated social media apps available internationally, this social networking app exclusively focuses on one particular state. It might seem ironic for a social media app to prevent users from connecting across state borders. But this app is designed taking into consideration the people who wishes to meet and engage with people in and around their vicinity. Which is otherwise difficult in social networking apps with millions of users\n",
      "The count of the word' My 'in the paragraph is 2\n"
     ]
    }
   ],
   "source": [
    "#1.a)Write a paragraph about introducing you and your selected domain (include Full Name, domain name, register number, year …….).\n",
    "#1.a)Write a python program to count the frequency of any specific word (your domain name) in the paragraph.\n",
    "count=0\n",
    "find=\"\"\n",
    "para=\"Paragraph: \\nMy name is Dhanwin KB from class MCAB. My register number is 2347221 (2023-2025). The domain I have selected is Regional Social Networking App. Unlike all the saturated social media apps available internationally, this social networking app exclusively focuses on one particular state. It might seem ironic for a social media app to prevent users from connecting across state borders. But this app is designed taking into consideration the people who wishes to meet and engage with people in and around their vicinity. Which is otherwise difficult in social networking apps with millions of users\"\n",
    "print(para)\n",
    "words=para.split()\n",
    "find=input(\"Enter the word to search for:\")\n",
    "for i in words:\n",
    "  if i==find:\n",
    "    count=count+1\n",
    "print(\"The count of the word'\",find,\"'in the paragraph is\",count)"
   ]
  },
  {
   "cell_type": "code",
   "execution_count": 4,
   "metadata": {},
   "outputs": [
    {
     "name": "stdout",
     "output_type": "stream",
     "text": [
      "Paragraph: \n",
      "My name is Dhanwin KB from class MCAB. My register number is 2347221 (2023-2025). The domain I have selected is Regional Social Networking App. Unlike all the saturated social media apps available internationally, this social networking app exclusively focuses on one particular state. It might seem ironic for a social media app to prevent users from connecting across state borders. But this app is designed taking into consideration the people who wishes to meet and engage with people in and around their vicinity. Which is otherwise difficult in social networking apps with millions of users\n",
      "Paragraph: :<class:str>\n",
      "My :<class:str>\n",
      "name :<class:str>\n",
      "is :<class:str>\n",
      "Dhanwin :<class:str>\n",
      "KB :<class:str>\n",
      "from :<class:str>\n",
      "class :<class:str>\n",
      "MCAB. :<class:str>\n",
      "My :<class:str>\n",
      "register :<class:str>\n",
      "number :<class:str>\n",
      "is :<class:str>\n",
      "2347221 :<class:int>\n",
      "(2023-2025). :<class:str>\n",
      "The :<class:str>\n",
      "domain :<class:str>\n",
      "I :<class:str>\n",
      "have :<class:str>\n",
      "selected :<class:str>\n",
      "is :<class:str>\n",
      "Regional :<class:str>\n",
      "Social :<class:str>\n",
      "Networking :<class:str>\n",
      "App. :<class:str>\n",
      "Unlike :<class:str>\n",
      "all :<class:str>\n",
      "the :<class:str>\n",
      "saturated :<class:str>\n",
      "social :<class:str>\n",
      "media :<class:str>\n",
      "apps :<class:str>\n",
      "available :<class:str>\n",
      "internationally, :<class:str>\n",
      "this :<class:str>\n",
      "social :<class:str>\n",
      "networking :<class:str>\n",
      "app :<class:str>\n",
      "exclusively :<class:str>\n",
      "focuses :<class:str>\n",
      "on :<class:str>\n",
      "one :<class:str>\n",
      "particular :<class:str>\n",
      "state. :<class:str>\n",
      "It :<class:str>\n",
      "might :<class:str>\n",
      "seem :<class:str>\n",
      "ironic :<class:str>\n",
      "for :<class:str>\n",
      "a :<class:str>\n",
      "social :<class:str>\n",
      "media :<class:str>\n",
      "app :<class:str>\n",
      "to :<class:str>\n",
      "prevent :<class:str>\n",
      "users :<class:str>\n",
      "from :<class:str>\n",
      "connecting :<class:str>\n",
      "across :<class:str>\n",
      "state :<class:str>\n",
      "borders. :<class:str>\n",
      "But :<class:str>\n",
      "this :<class:str>\n",
      "app :<class:str>\n",
      "is :<class:str>\n",
      "designed :<class:str>\n",
      "taking :<class:str>\n",
      "into :<class:str>\n",
      "consideration :<class:str>\n",
      "the :<class:str>\n",
      "people :<class:str>\n",
      "who :<class:str>\n",
      "wishes :<class:str>\n",
      "to :<class:str>\n",
      "meet :<class:str>\n",
      "and :<class:str>\n",
      "engage :<class:str>\n",
      "with :<class:str>\n",
      "people :<class:str>\n",
      "in :<class:str>\n",
      "and :<class:str>\n",
      "around :<class:str>\n",
      "their :<class:str>\n",
      "vicinity. :<class:str>\n",
      "Which :<class:str>\n",
      "is :<class:str>\n",
      "otherwise :<class:str>\n",
      "difficult :<class:str>\n",
      "in :<class:str>\n",
      "social :<class:str>\n",
      "networking :<class:str>\n",
      "apps :<class:str>\n",
      "with :<class:str>\n",
      "millions :<class:str>\n",
      "of :<class:str>\n",
      "users :<class:str>\n"
     ]
    }
   ],
   "source": [
    "#1.b)Write a python program to display all the datatypes of selected specific element in the paragraph. (For example:– name - string, reg.no - int, marks - float, etc.)\n",
    "para=\"Paragraph: \\nMy name is Dhanwin KB from class MCAB. My register number is 2347221 (2023-2025). The domain I have selected is Regional Social Networking App. Unlike all the saturated social media apps available internationally, this social networking app exclusively focuses on one particular state. It might seem ironic for a social media app to prevent users from connecting across state borders. But this app is designed taking into consideration the people who wishes to meet and engage with people in and around their vicinity. Which is otherwise difficult in social networking apps with millions of users\"\n",
    "print(para)\n",
    "words=para.split()\n",
    "#for i in words:\n",
    "    #print (i,\":\",type(i))\n",
    "for i in words:\n",
    "    for j in i:\n",
    "        if j in [\"0\",\"1\",\"2\",\"3\",\"4\",\"5\",\"6\",\"7\",\"8\",\"9\"]:\n",
    "            if \".\" in j:\n",
    "                print(i,\":<class:float>\")\n",
    "                break\n",
    "            else:\n",
    "                print(i,\":<class:int>\")\n",
    "                break\n",
    "        else:\n",
    "             print(i,\":<class:str>\")\n",
    "             break "
   ]
  },
  {
   "cell_type": "code",
   "execution_count": 5,
   "metadata": {},
   "outputs": [
    {
     "name": "stdout",
     "output_type": "stream",
     "text": [
      "Paragraph: \n",
      "\n",
      "My name is Dhanwin KB from class MCAB. My register number is 2347221 (2023-2025). The domain I have selected is Regional Social Networking App. Unlike all the saturated social media apps available internationally, this social networking app exclusively focuses on one particular state. It might seem ironic for a social media app to prevent users from connecting across state borders. But this app is designed taking into consideration the people who wishes to meet and engage with people in and around their vicinity. Which is otherwise difficult in social networking apps with millions of users\n",
      "No. of Alphabets : 477 No. of Numbers : 15 No. of Special Characters : 104\n"
     ]
    }
   ],
   "source": [
    "#1.c)Write a python program to count the number of alphabets, numeric and other special symbols in the paragraph.\n",
    "countnum=0\n",
    "countalpha=0\n",
    "countspcl=0\n",
    "print(\"Paragraph: \\n\")\n",
    "para=\"My name is Dhanwin KB from class MCAB. My register number is 2347221 (2023-2025). The domain I have selected is Regional Social Networking App. Unlike all the saturated social media apps available internationally, this social networking app exclusively focuses on one particular state. It might seem ironic for a social media app to prevent users from connecting across state borders. But this app is designed taking into consideration the people who wishes to meet and engage with people in and around their vicinity. Which is otherwise difficult in social networking apps with millions of users\"\n",
    "print(para)\n",
    "l=list(para)\n",
    "for i in l:\n",
    "  if (i>='0' and i<='9'):\n",
    "    countnum=countnum+1\n",
    "  elif ((i >= 'a' and i <= 'z') or (i >= 'A' and i <= 'Z')):\n",
    "    countalpha=countalpha+1\n",
    "  else:\n",
    "    countspcl=countspcl+1\n",
    "print(\"No. of Alphabets :\",countalpha,\"No. of Numbers :\",countnum,\"No. of Special Characters :\",countspcl)"
   ]
  },
  {
   "cell_type": "code",
   "execution_count": 7,
   "metadata": {},
   "outputs": [
    {
     "name": "stdout",
     "output_type": "stream",
     "text": [
      "The Set :\n",
      "{False, 1, 24032001, 165.5, 'password', 'dhanwin', 61.5}\n",
      "\n",
      "The Set (after popping) :\n",
      "{1, 24032001, 165.5, 'password', 'dhanwin', 61.5}\n",
      "\n",
      "The Set (after removing user specified element) :\n",
      "{1, 24032001, 165.5, 'password', 'dhanwin', 61.5}\n",
      "\n",
      "The Set (after clearing) :\n",
      "set()\n",
      "\n",
      "The set was successfully removed!\n"
     ]
    }
   ],
   "source": [
    "#2.a)Create a Set with elements that consists of various data types (int, float, string, Boolean, etc. from your domain) and perform the functions pop(), clear(), discard() and del. Write the insights as docstring.\n",
    "user1={1,\"dhanwin\",\"password\",24032001,True,False,165.5,61.5}\n",
    "bkup=user1\n",
    "print(\"The Set :\")\n",
    "print(user1)\n",
    "\"\"\"The set is displayed!\"\"\"\n",
    "x = user1.pop()\n",
    "print(\"\\nThe Set (after popping) :\")\n",
    "print(user1)\n",
    "\"\"\"from the set is popped!\"\"\"\n",
    "rem=input(\"Enter a specific element you wish to remove:\")\n",
    "user1.discard(rem)\n",
    "print(\"\\nThe Set (after removing user specified element) :\")\n",
    "print(user1)\n",
    "\"\"\"The specific element from the set was removed\"\"\"\n",
    "user1.clear()\n",
    "print(\"\\nThe Set (after clearing) :\")\n",
    "print(user1)\n",
    "\"\"\"All the elements of the set are removed\"\"\"\n",
    "del user1\n",
    "\"\"\"The set was removed\"\"\"\n",
    "print(\"\\nThe set was successfully removed!\")"
   ]
  },
  {
   "cell_type": "code",
   "execution_count": 14,
   "metadata": {},
   "outputs": [
    {
     "name": "stdout",
     "output_type": "stream",
     "text": [
      "The Set as it is:\n",
      "{'true', 'false', 'password', 'dhanwin', 'mailid'}\n",
      "The Set (after insertion of 2 elements):\n",
      "{'b', 'false', 'c', 'mailid', 'd', 'dhanwin', 'password', 'true', 'a', 'e'}\n",
      "The Set (after sorting):\n",
      "['true', 'password', 'mailid', 'false', 'e', 'dhanwin', 'd', 'c', 'b', 'a']\n"
     ]
    }
   ],
   "source": [
    "#x2.b)Update the Set with minimum 5 string attributes of your domain and arrange the Set in descending order.x\n",
    "user1={\"dhanwin\",\"password\",\"mailid\",\"true\",\"false\"}\n",
    "bkup=user1\n",
    "s={}\n",
    "print(\"The Set as it is:\")\n",
    "print(user1)\n",
    "inp=int(input(\"Enter the number of items you wish to add in the set:\"))\n",
    "n=int(inp)\n",
    "i=0\n",
    "for i in range(0,n):\n",
    "  e=input(\"Enter the element to add in the set:\")\n",
    "  user1.add(e)\n",
    "print(\"The Set (after insertion of elements):\")\n",
    "print(user1)\n",
    "s=sorted(user1,reverse=True)\n",
    "#for i in range(0,len(user1)-1):  \n",
    "#    for j in range(len(user1)-1):  \n",
    "#      if(user1[j]<user1[j+1]):  \n",
    "#        temp = user[j]  \n",
    "#        user1[j] = user1[j+1]  \n",
    "#        user1[j+1] = temp\n",
    "#for x in user1:\n",
    "#  print(x)\n",
    "#print(\"\\n\")\n",
    "print(\"The Set (after sorting):\")\n",
    "print(s)"
   ]
  },
  {
   "cell_type": "code",
   "execution_count": null,
   "metadata": {},
   "outputs": [],
   "source": [
    "#2.c)Create a Tuple and Execute the packing and unpacking operations of tuples using the attributes of your domain.\n",
    "usertuple=(\"anirudh\",\"biju\",\"chandra\",\"dhanwin\",\"eric\")\n",
    "print(\"tuple:\",usertuple)\n",
    "user1, user2, user3, user4,user5 = usertuple\n",
    "print(user1)\n",
    "print(user2)\n",
    "print(user3)\n",
    "print(user4)\n",
    "print(user5)"
   ]
  },
  {
   "cell_type": "code",
   "execution_count": 7,
   "metadata": {},
   "outputs": [
    {
     "name": "stdout",
     "output_type": "stream",
     "text": [
      "count of r : 2\n"
     ]
    }
   ],
   "source": [
    "#2.d)Enter your domain name as characters and count any number of characters and print the count (for example – (‘p’,’r’,’o’,’g’,’r’,’a’,’m’) count of ‘r’ = 2)\n",
    "#s='Regional Social Networking App'\n",
    "#t=tuple(s.split())\n",
    "#print(t)\n",
    "count=0\n",
    "s=(\"r\",\"e\",\"g\",\"i\",\"o\",\"n\",\"a\",\"l\",\"s\",\"o\",\"c\",\"i\",\"a\",\"l\",\"n\",\"e\",\"t\",\"w\",\"o\",\"r\",\"k\",\"i\",\"n\",\"g\",\"a\",\"p\",\"p\")\n",
    "x=input(\"Enter the character you wish to search for:\")\n",
    "for i in s:\n",
    "  if x==i:\n",
    "    count=count+1\n",
    "print(\"count of\",x,\":\",count)"
   ]
  },
  {
   "cell_type": "code",
   "execution_count": 16,
   "metadata": {},
   "outputs": [
    {
     "name": "stdout",
     "output_type": "stream",
     "text": [
      "Positive Slicing:\n",
      "('r', 'e', 'g', 'i', 'o', 'n')\n",
      "('e', 'g', 'i', 'o', 'n', 'a', 'l', 's', 'o', 'c', 'i', 'a', 'l', 'n', 'e', 't', 'w', 'o', 'r', 'k', 'i', 'n', 'g', 'a', 'p', 'p')\n",
      "('r', 'e')\n",
      "('n', 'a', 'l', 's', 'o', 'c', 'i')\n",
      "('r', 'e', 'g', 'i', 'o', 'n', 'a', 'l', 's', 'o', 'c', 'i', 'a', 'l', 'n', 'e', 't', 'w', 'o', 'r', 'k', 'i', 'n', 'g', 'a', 'p', 'p')\n",
      "('r', 'g', 'o', 'a', 's', 'c', 'a', 'n', 't', 'o', 'k', 'n', 'a', 'p')\n",
      "Negative Slicing:\n",
      "('p',)\n",
      "('k', 'i', 'n')\n",
      "('w', 'o', 'r', 'k', 'i', 'n', 'g', 'a', 'p', 'p')\n"
     ]
    }
   ],
   "source": [
    "#2.e)Enter your domain name, execute all the slicing possibilities and also negative indexing\n",
    "s=(\"r\",\"e\",\"g\",\"i\",\"o\",\"n\",\"a\",\"l\",\"s\",\"o\",\"c\",\"i\",\"a\",\"l\",\"n\",\"e\",\"t\",\"w\",\"o\",\"r\",\"k\",\"i\",\"n\",\"g\",\"a\",\"p\",\"p\")\n",
    "print(\"Positive Slicing:\")\n",
    "print(s[0:6])\n",
    "print(s[1:])\n",
    "print(s[:2])\n",
    "print(s[5:12])\n",
    "print(s[:])\n",
    "print(s[::2])\n",
    "print(\"Negative Slicing:\")\n",
    "print(s[-1:])\n",
    "print(s[-7:-4])\n",
    "print(s[-10:])"
   ]
  }
 ],
 "metadata": {
  "kernelspec": {
   "display_name": "Python 3",
   "language": "python",
   "name": "python3"
  },
  "language_info": {
   "codemirror_mode": {
    "name": "ipython",
    "version": 3
   },
   "file_extension": ".py",
   "mimetype": "text/x-python",
   "name": "python",
   "nbconvert_exporter": "python",
   "pygments_lexer": "ipython3",
   "version": "3.11.4"
  },
  "orig_nbformat": 4
 },
 "nbformat": 4,
 "nbformat_minor": 2
}
